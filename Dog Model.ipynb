{
 "cells": [
  {
   "cell_type": "code",
   "execution_count": 1,
   "id": "56bafc5e-5fba-42de-9e9d-0d0b56ba71f5",
   "metadata": {},
   "outputs": [
    {
     "name": "stdout",
     "output_type": "stream",
     "text": [
      "Program runtime: 0.0 seconds\n"
     ]
    }
   ],
   "source": [
    "## check_images.py\n",
    "## Program Timing\n",
    "import time\n",
    "\n",
    "start_time = time.time()\n",
    "# Your code here\n",
    "end_time = time.time()\n",
    "runtime = end_time - start_time\n",
    "print(f\"Program runtime: {runtime} seconds\")"
   ]
  },
  {
   "cell_type": "code",
   "execution_count": 2,
   "id": "fb88de24-3a0d-4be5-9599-bc8ca661dca3",
   "metadata": {},
   "outputs": [],
   "source": [
    "## Get program Inputs from the user\n",
    "import sys\n",
    "\n",
    "image_path = sys.argv[1]"
   ]
  },
  {
   "cell_type": "code",
   "execution_count": null,
   "id": "9a601d3d-710d-43cb-87eb-abb87728212d",
   "metadata": {},
   "outputs": [],
   "source": [
    "\n"
   ]
  },
  {
   "cell_type": "code",
   "execution_count": 4,
   "id": "e3596c44-d8f1-4e51-babb-0ca7de19ff3c",
   "metadata": {},
   "outputs": [
    {
     "name": "stdout",
     "output_type": "stream",
     "text": [
      "\n",
      "Total Elapsed Runtime: 00:00:05\n"
     ]
    }
   ],
   "source": [
    "# Import the time() and sleep() functions from the time module\n",
    "from time import time, sleep\n",
    "\n",
    "def main():\n",
    "    # TODO: 0 - Timing Code\n",
    "    \n",
    "    # Step 1: Add your name and the date you started working on the project\n",
    "    # Your name: Idah Makena Ncooro\n",
    "    # Date: 2024-12-06\n",
    "    \n",
    "    # Step 2: Record the start time\n",
    "    start_time = time()\n",
    "    \n",
    "    # Step 3: Simulate some code processing (Replace this with the actual code to classify images)\n",
    "    sleep(5)  # Simulating a 5-second task, replace with your actual code later\n",
    "    \n",
    "    # Step 4: Record the end time\n",
    "    end_time = time()\n",
    "    \n",
    "    # Step 5: Calculate the total runtime\n",
    "    tot_time = end_time - start_time\n",
    "    \n",
    "    # Step 6: Format the time into hours, minutes, and seconds\n",
    "    hours = int(tot_time // 3600)\n",
    "    minutes = int((tot_time % 3600) // 60)\n",
    "    seconds = int(tot_time % 60)\n",
    "    \n",
    "    # Step 7: Print the formatted total runtime\n",
    "    print(\"\\nTotal Elapsed Runtime:\", f\"{hours:02}:{minutes:02}:{seconds:02}\")\n",
    "    \n",
    "# Call the main function to test the timing code\n",
    "if __name__ == \"__main__\":\n",
    "    main()"
   ]
  },
  {
   "cell_type": "code",
   "execution_count": 12,
   "id": "80630a21-9168-4143-b186-6a09e5808782",
   "metadata": {},
   "outputs": [],
   "source": [
    "from os import listdir\n",
    "\n",
    "def get_pet_labels(image_dir):\n",
    "    \"\"\"\n",
    "    Creates a dictionary of pet labels (results_dic) based on the filenames \n",
    "    of the image files in a specified directory. The pet image labels are \n",
    "    formatted to be in all lowercase letters with leading and trailing \n",
    "    whitespace characters stripped.\n",
    "    \n",
    "    Parameters:\n",
    "        image_dir (str): The path to the folder containing pet images.\n",
    "\n",
    "    Returns:\n",
    "        dict: A dictionary with the image filename as the key and a list \n",
    "              containing the pet label as the value.\n",
    "    \"\"\"\n",
    "    # Create an empty dictionary to hold results\n",
    "    results_dic = {}\n",
    "\n",
    "    # Retrieve the filenames in the given directory\n",
    "    filename_list = listdir(image_dir)\n",
    "\n",
    "    for filename in filename_list:\n",
    "        # Ignore hidden files (e.g., .DS_Store)\n",
    "        if filename.startswith('.'):\n",
    "            continue\n",
    "\n",
    "        # Convert filename to lowercase and split by \"_\"\n",
    "        low_pet_image = filename.lower()\n",
    "        word_list_pet_image = low_pet_image.split(\"_\")\n",
    "\n",
    "        # Create pet label starting as an empty string\n",
    "        pet_label = \"\"\n",
    "\n",
    "        # Loop through words in filename and build the pet label\n",
    "        for word in word_list_pet_image:\n",
    "            if word.isalpha():  # Include only alphabetic words\n",
    "                pet_label += word + \" \"\n",
    "\n",
    "        # Strip leading and trailing spaces\n",
    "        pet_label = pet_label.strip()\n",
    "\n",
    "        # Check if filename is already in dictionary (sanity check)\n",
    "        if filename not in results_dic:\n",
    "            results_dic[filename] = [pet_label]\n",
    "        else:\n",
    "            print(f\"** Warning: Duplicate filename {filename} found in directory.\")\n",
    "\n",
    "    return results_dic"
   ]
  },
  {
   "cell_type": "code",
   "execution_count": null,
   "id": "83b700e7-d99b-448d-987a-fef947f116d3",
   "metadata": {},
   "outputs": [],
   "source": [
    "\n"
   ]
  },
  {
   "cell_type": "code",
   "execution_count": 13,
   "id": "2dfcb826-888a-4332-bdf8-75a6b79d623f",
   "metadata": {},
   "outputs": [
    {
     "name": "stdout",
     "output_type": "stream",
     "text": [
      "C:\\Users\\PC\n"
     ]
    }
   ],
   "source": [
    "import os\n",
    "print(os.getcwd())"
   ]
  },
  {
   "cell_type": "code",
   "execution_count": null,
   "id": "c4f593ab-345f-4cd5-9ddd-9a5ecce313c0",
   "metadata": {},
   "outputs": [],
   "source": []
  },
  {
   "cell_type": "code",
   "execution_count": 14,
   "id": "dc679170-c082-40fd-a2af-b8010d796296",
   "metadata": {},
   "outputs": [
    {
     "name": "stdout",
     "output_type": "stream",
     "text": [
      "Current Working Directory: C:\\Users\\PC\n"
     ]
    }
   ],
   "source": [
    "import os\n",
    "print(\"Current Working Directory:\", os.getcwd())\n"
   ]
  },
  {
   "cell_type": "code",
   "execution_count": 15,
   "id": "e45e26a5-863e-49a4-b06f-75806e426e00",
   "metadata": {},
   "outputs": [
    {
     "name": "stdout",
     "output_type": "stream",
     "text": [
      "Updated Working Directory: C:\\Users\\PC\\Documents\\AWS\\images\n"
     ]
    }
   ],
   "source": [
    "import os\n",
    "\n",
    "# Set working directory to the images folder\n",
    "os.chdir(r\"C:\\Users\\PC\\Documents\\AWS\\images\")\n",
    "print(\"Updated Working Directory:\", os.getcwd())"
   ]
  },
  {
   "cell_type": "code",
   "execution_count": 16,
   "id": "38383aa8-83b4-4560-8432-1f712809ef60",
   "metadata": {},
   "outputs": [
    {
     "name": "stdout",
     "output_type": "stream",
     "text": [
      "\n",
      "Prints 10 filenames from folder pet_images/\n",
      " 1 file:         Basenji_00963.jpg\n",
      " 2 file:         Basenji_00974.jpg\n",
      " 3 file:    Basset_hound_01034.jpg\n",
      " 4 file:          Beagle_01125.jpg\n",
      " 5 file:          Beagle_01141.jpg\n",
      " 6 file:          Beagle_01170.jpg\n",
      " 7 file:  Boston_terrier_02259.jpg\n",
      " 8 file:  Boston_terrier_02285.jpg\n",
      " 9 file:  Boston_terrier_02303.jpg\n",
      "10 file:           Boxer_02426.jpg\n"
     ]
    }
   ],
   "source": [
    "from os import listdir\n",
    "\n",
    "# Specify the full path to your pet_images folder\n",
    "image_folder = r\"C:\\Users\\PC\\Documents\\AWS\\images\"\n",
    "filename_list = listdir(image_folder)\n",
    "\n",
    "# Print the first 10 filenames in the pet_images folder\n",
    "print(\"\\nPrints 10 filenames from folder pet_images/\")\n",
    "for idx in range(0, 10):\n",
    "    print(\"{:2d} file: {:>25}\".format(idx + 1, filename_list[idx]))\n"
   ]
  },
  {
   "cell_type": "code",
   "execution_count": 17,
   "id": "d0aee520-9fdf-4303-83bc-9123cf561e1f",
   "metadata": {},
   "outputs": [],
   "source": [
    "def get_pet_labels(image_folder):\n",
    "    from os import listdir\n",
    "\n",
    "    # Retrieve the filenames from the folder pet_images/\n",
    "    filename_list = listdir(image_folder)\n",
    "\n",
    "    # Create the results dictionary to store filenames and labels\n",
    "    results_dic = {}\n",
    "\n",
    "    # Process each file in the list\n",
    "    for filename in filename_list:\n",
    "        # Create label by extracting pet name from the filename\n",
    "        label = process_filename(filename)  # Implement this function to clean the filename\n",
    "\n",
    "        # Add to results_dic: filename as the key and the label as the value\n",
    "        results_dic[filename] = [label]\n",
    "\n",
    "    return results_dic\n"
   ]
  },
  {
   "cell_type": "code",
   "execution_count": null,
   "id": "e50a00b4-fb57-4a4d-8109-732d343943dd",
   "metadata": {},
   "outputs": [],
   "source": [
    "\n"
   ]
  },
  {
   "cell_type": "code",
   "execution_count": 19,
   "id": "e8d375d2-1095-46d1-ba42-385fa74ea729",
   "metadata": {},
   "outputs": [],
   "source": [
    "from os import listdir\n",
    "\n",
    "def process_filename(filename):\n",
    "    \"\"\"\n",
    "    Extract the pet name from the filename.\n",
    "    Assumes the pet name is the first part of the filename before the first underscore.\n",
    "    \"\"\"\n",
    "    pet_name = filename.split('_')[0].lower()  # Extracts the name before the first underscore and converts to lowercase.\n",
    "    return pet_name\n",
    "\n",
    "def get_pet_labels(image_folder):\n",
    "    \"\"\"\n",
    "    Retrieves the pet labels from the filenames in the specified image folder.\n",
    "    The filenames are assumed to contain the pet's name before the first underscore.\n",
    "    \"\"\"\n",
    "    # Get the list of filenames in the specified folder\n",
    "    filename_list = listdir(image_folder)\n",
    "\n",
    "    # Create an empty dictionary to store the results\n",
    "    results_dic = {}\n",
    "\n",
    "    # Process each file in the directory\n",
    "    for filename in filename_list:\n",
    "        # Check if the file is an image by checking the file extension\n",
    "        if filename.endswith(('.jpg', '.jpeg', '.png')):\n",
    "            # Process the filename to extract the pet name\n",
    "            label = process_filename(filename)\n",
    "\n",
    "            # Add the filename and its corresponding label to the dictionary\n",
    "            results_dic[filename] = [label]\n",
    "\n",
    "    return results_dic"
   ]
  },
  {
   "cell_type": "code",
   "execution_count": 20,
   "id": "c86cb03c-2d4f-4747-9de4-bf531a43f1be",
   "metadata": {},
   "outputs": [
    {
     "name": "stdout",
     "output_type": "stream",
     "text": [
      "Basenji_00963.jpg: ['basenji']\n",
      "Basenji_00974.jpg: ['basenji']\n",
      "Basset_hound_01034.jpg: ['basset']\n",
      "Beagle_01125.jpg: ['beagle']\n",
      "Beagle_01141.jpg: ['beagle']\n",
      "Beagle_01170.jpg: ['beagle']\n",
      "Boston_terrier_02259.jpg: ['boston']\n",
      "Boston_terrier_02285.jpg: ['boston']\n",
      "Boston_terrier_02303.jpg: ['boston']\n",
      "Boxer_02426.jpg: ['boxer']\n"
     ]
    }
   ],
   "source": [
    "# Specify your image directory\n",
    "image_folder = r\"C:\\Users\\PC\\Documents\\AWS\\images\"\n",
    "\n",
    "# Get the pet labels from the images directory\n",
    "pet_labels = get_pet_labels(image_folder)\n",
    "\n",
    "# Check the labels for the first 10 files\n",
    "for key, value in list(pet_labels.items())[:10]:\n",
    "    print(f\"{key}: {value}\")"
   ]
  },
  {
   "cell_type": "code",
   "execution_count": 22,
   "id": "bf8971e5-c9e2-48ce-8684-d68460e404d7",
   "metadata": {},
   "outputs": [
    {
     "name": "stdout",
     "output_type": "stream",
     "text": [
      "Command-line Arguments:\n",
      "Directory: pet_images/\n",
      "Architecture: vgg\n",
      "Dog File: dognames.txt\n"
     ]
    }
   ],
   "source": [
    "import argparse\n",
    "\n",
    "def get_input_args():\n",
    "    \"\"\"\n",
    "    Retrieves and parses the command line arguments provided by the user when running the program.\n",
    "    \n",
    "    Returns:\n",
    "        Namespace: contains the parsed command line arguments\n",
    "    \"\"\"\n",
    "    # Simulate argparse arguments in Jupyter\n",
    "    # This is where you'd normally pass arguments via the command line\n",
    "    import sys\n",
    "    sys.argv = ['check_images.py', '--dir', 'pet_images/', '--arch', 'vgg', '--dogfile', 'dognames.txt']\n",
    "    \n",
    "    parser = argparse.ArgumentParser()\n",
    "    \n",
    "    # Add arguments\n",
    "    parser.add_argument('--dir', type=str, default='pet_images/', \n",
    "                        help='path to the folder containing pet images')\n",
    "    \n",
    "    parser.add_argument('--arch', type=str, default='resnet', choices=['resnet', 'alexnet', 'vgg'],\n",
    "                        help='CNN model architecture to use (resnet, alexnet, or vgg)')\n",
    "    \n",
    "    parser.add_argument('--dogfile', type=str, default='dognames.txt', \n",
    "                        help='file containing the list of valid dog names')\n",
    "\n",
    "    # Parse the arguments\n",
    "    in_args = parser.parse_args()\n",
    "\n",
    "    return in_args\n",
    "\n",
    "# Get and display the command-line arguments\n",
    "args = get_input_args()\n",
    "print(\"Command-line Arguments:\")\n",
    "print(f\"Directory: {args.dir}\")\n",
    "print(f\"Architecture: {args.arch}\")\n",
    "print(f\"Dog File: {args.dogfile}\")"
   ]
  },
  {
   "cell_type": "code",
   "execution_count": 23,
   "id": "95bd3efe-4d00-41a8-af22-baced6ceb55f",
   "metadata": {},
   "outputs": [],
   "source": [
    "from os import listdir\n",
    "\n",
    "def get_pet_labels(directory):\n",
    "    \"\"\"\n",
    "    Creates a dictionary of pet image filenames and their associated pet labels.\n",
    "    \n",
    "    Args:\n",
    "        directory (str): The path to the directory containing pet images.\n",
    "        \n",
    "    Returns:\n",
    "        dict: A dictionary where keys are the filenames of pet images and \n",
    "              values are the pet labels.\n",
    "    \"\"\"\n",
    "    # Create an empty dictionary to store the results\n",
    "    results_dic = dict()\n",
    "\n",
    "    # Retrieve the list of filenames from the specified directory\n",
    "    filename_list = listdir(directory)\n",
    "    \n",
    "    # Loop through each file in the directory\n",
    "    for filename in filename_list:\n",
    "        # Split the filename by underscores and convert to lowercase\n",
    "        words = filename.lower().split(\"_\")\n",
    "        \n",
    "        # Initialize the label as an empty string\n",
    "        pet_label = \"\"\n",
    "        \n",
    "        # Loop through the parts of the filename and append alphabetic words to pet_label\n",
    "        for word in words:\n",
    "            if word.isalpha():  # Check if the word contains only alphabetic characters\n",
    "                pet_label += word + \" \"\n",
    "        \n",
    "        # Remove any leading or trailing spaces from pet_label\n",
    "        pet_label = pet_label.strip()\n",
    "\n",
    "        # Add the filename and its label to the dictionary if not already present\n",
    "        if filename not in results_dic:\n",
    "            results_dic[filename] = [pet_label]\n",
    "        else:\n",
    "            print(f\"Warning: The filename {filename} already exists in the dictionary.\")\n",
    "\n",
    "    return results_dic\n"
   ]
  },
  {
   "cell_type": "code",
   "execution_count": 25,
   "id": "64c6a073-82cd-4a88-89bc-645d33dbb949",
   "metadata": {},
   "outputs": [],
   "source": [
    "from os import listdir\n",
    "\n",
    "def get_pet_labels(image_dir):\n",
    "    # Create an empty dictionary to store the results\n",
    "    results_dic = dict()\n",
    "\n",
    "    # Retrieve the filenames from the specified folder\n",
    "    filename_list = listdir(image_dir)\n",
    "    \n",
    "    # Loop through the filenames and create labels\n",
    "    for filename in filename_list:\n",
    "        # Split the filename to get the pet label (assumes format like \"beagle_0239.jpg\")\n",
    "        label = filename.split(\"_\")[0].lower()  # Extract the first word and convert to lowercase\n",
    "        if filename not in results_dic:\n",
    "            results_dic[filename] = [label]\n",
    "        else:\n",
    "            print(f\"** Warning: Key={filename} already exists.\")\n",
    "    \n",
    "    return results_dic\n"
   ]
  },
  {
   "cell_type": "code",
   "execution_count": 26,
   "id": "ad3f8039-ace5-4070-9057-f99d7297a251",
   "metadata": {},
   "outputs": [
    {
     "name": "stdout",
     "output_type": "stream",
     "text": [
      "{'Basenji_00963.jpg': ['basenji'], 'Basenji_00974.jpg': ['basenji'], 'Basset_hound_01034.jpg': ['basset'], 'Beagle_01125.jpg': ['beagle'], 'Beagle_01141.jpg': ['beagle'], 'Beagle_01170.jpg': ['beagle'], 'Boston_terrier_02259.jpg': ['boston'], 'Boston_terrier_02285.jpg': ['boston'], 'Boston_terrier_02303.jpg': ['boston'], 'Boxer_02426.jpg': ['boxer'], 'cat_01.jpg': ['cat'], 'cat_02.jpg': ['cat']}\n"
     ]
    }
   ],
   "source": [
    "# Specify the full path to the image directory\n",
    "image_directory = r\"C:\\Users\\PC\\Documents\\AWS\\images\"\n",
    "\n",
    "# Call the function and store the result\n",
    "pet_labels = get_pet_labels(image_directory)\n",
    "\n",
    "# Print the dictionary to check the results\n",
    "print(pet_labels)\n"
   ]
  },
  {
   "cell_type": "code",
   "execution_count": 28,
   "id": "ae06cad0-5205-4cd6-b0a1-d9cf9e782b53",
   "metadata": {},
   "outputs": [
    {
     "name": "stdout",
     "output_type": "stream",
     "text": [
      "C:\\Users\\PC\\Documents\\AWS\\images\n"
     ]
    }
   ],
   "source": [
    "import os\n",
    "print(os.getcwd())  # Print current working directory\n",
    "\n"
   ]
  },
  {
   "cell_type": "code",
   "execution_count": 31,
   "id": "d0b74e81-9eff-4b8c-a87f-f13dc852466f",
   "metadata": {},
   "outputs": [],
   "source": [
    "## TODO 3\n"
   ]
  },
  {
   "cell_type": "code",
   "execution_count": null,
   "id": "d6a4c8e1-963c-4132-a997-c1e48add6054",
   "metadata": {},
   "outputs": [],
   "source": []
  },
  {
   "cell_type": "code",
   "execution_count": 14,
   "id": "f46a1722-1711-4d66-9fae-75f2d1a7a945",
   "metadata": {},
   "outputs": [],
   "source": [
    "def adjust_results4_isadog(results_dic, dogfile):\n",
    "    \"\"\"\n",
    "    Adjust the results dictionary to add two new fields: whether the image and classifier labels are of a dog.\n",
    "    \n",
    "    results_dic: Dictionary where the key is the pet image filename and the value is a list containing:\n",
    "                  - index 0: Pet Image Label\n",
    "                  - index 1: Classifier Label\n",
    "                  - index 2: 0 or 1 indicating whether labels match (0 = no match, 1 = match)\n",
    "    dogfile: Path to the file containing a list of dog breed names (one breed per line).\n",
    "    \"\"\"\n",
    "    # Read the dog names from the dogfile and store them in a dictionary\n",
    "    dognames_dic = {}\n",
    "    with open(dogfile, 'r') as f:\n",
    "        for line in f:\n",
    "            dog_name = line.strip().lower()  # Remove newline and make it lowercase\n",
    "            if dog_name in dognames_dic:\n",
    "                print(f\"Warning: Duplicate dog breed found - {dog_name}\")\n",
    "            dognames_dic[dog_name] = 1  # Value doesn't matter, we just need fast lookup\n",
    "\n",
    "    # Iterate through the results dictionary and adjust the results for each image\n",
    "    for pet_image, results_list in results_dic.items():\n",
    "        # Extract pet image label and classifier label\n",
    "        pet_label = results_list[0]\n",
    "        classifier_label = results_list[1]\n",
    "\n",
    "        # Check if the pet image label is a dog (is in the dog names dictionary)\n",
    "        pet_is_dog = 1 if pet_label in dognames_dic else 0\n",
    "        \n",
    "        # Check if the classifier label is a dog (is in the dog names dictionary)\n",
    "        classifier_is_dog = 1 if classifier_label in dognames_dic else 0\n",
    "        \n",
    "        # Append the results to the dictionary: index 3 and index 4\n",
    "        results_list.extend([pet_is_dog, classifier_is_dog])\n",
    "\n",
    "    # No need to return anything since the dictionary is modified in place"
   ]
  },
  {
   "cell_type": "code",
   "execution_count": 2,
   "id": "d0ba7c29-9d82-4542-8bf7-2f8a67cb5a8a",
   "metadata": {},
   "outputs": [],
   "source": [
    "def main():\n",
    "    # Assuming in_arg.dogfile is the path to your dog names file\n",
    "    adjust_results4_isadog(results_dic, in_arg.dogfile)\n",
    "\n",
    "    # Further code to check results, if necessary"
   ]
  },
  {
   "cell_type": "code",
   "execution_count": 3,
   "id": "9b7c59c3-180a-4000-8413-a3cd3496e57a",
   "metadata": {},
   "outputs": [],
   "source": [
    "def calculates_results_stats(results_dic):\n",
    "\n",
    "    \n",
    "    # Initialize the statistics dictionary\n",
    "    results_stats_dic = {}\n",
    "\n",
    "    # Initialize count variables\n",
    "    n_images = len(results_dic)  # Total number of images\n",
    "    n_correct_dogs = 0          # Number of correctly classified dog images\n",
    "    n_dogs = 0                  # Number of dog images\n",
    "    n_correct_non_dogs = 0      # Number of correctly classified non-dog images\n",
    "    n_non_dogs = 0              # Number of non-dog images\n",
    "    n_correct_breed = 0         # Number of correctly classified breed images\n",
    "    n_label_matches = 0         # Number of label matches (regardless of dog or non-dog)\n",
    "\n",
    "    # Iterate over the results dictionary to count various categories\n",
    "    for key in results_dic:\n",
    "        pet_label = results_dic[key][0]  # Pet label (e.g., 'beagle')\n",
    "        classifier_label = results_dic[key][1]  # Classifier label (e.g., 'english foxhound')\n",
    "        is_pet_dog = results_dic[key][3]  # 1 if pet label is a dog, 0 otherwise\n",
    "        is_classified_dog = results_dic[key][4]  # 1 if classifier label is a dog, 0 otherwise\n",
    "        is_correct_label = results_dic[key][2]  # 1 if labels match, 0 otherwise\n",
    "\n",
    "        # Count the number of dog images\n",
    "        if is_pet_dog == 1:\n",
    "            n_dogs += 1\n",
    "            if is_correct_label == 1:\n",
    "                n_correct_breed += 1  # Correct breed match\n",
    "            if is_classified_dog == 1:\n",
    "                n_correct_dogs += 1  # Correctly classified as a dog\n",
    "\n",
    "        # Count the number of non-dog images\n",
    "        if is_pet_dog == 0:\n",
    "            n_non_dogs += 1\n",
    "            if is_classified_dog == 0:\n",
    "                n_correct_non_dogs += 1  # Correctly classified as not a dog\n",
    "\n",
    "        # Count the total number of label matches (regardless of dog or non-dog)\n",
    "        if is_correct_label == 1:\n",
    "            n_label_matches += 1\n",
    "\n",
    "    # Calculate percentages from counts\n",
    "    pct_correct_dogs = (n_correct_dogs / n_dogs) * 100 if n_dogs > 0 else 0\n",
    "    pct_correct_non_dogs = (n_correct_non_dogs / n_non_dogs) * 100 if n_non_dogs > 0 else 0\n",
    "    pct_correct_breed = (n_correct_breed / n_dogs) * 100 if n_dogs > 0 else 0\n",
    "    pct_label_matches = (n_label_matches / n_images) * 100 if n_images > 0 else 0\n",
    "\n",
    "    # Populate the results_stats dictionary\n",
    "    results_stats_dic['n_images'] = n_images\n",
    "    results_stats_dic['n_correct_dogs'] = n_correct_dogs\n",
    "    results_stats_dic['pct_correct_dogs'] = pct_correct_dogs\n",
    "    results_stats_dic['n_dogs'] = n_dogs\n",
    "    results_stats_dic['n_correct_non_dogs'] = n_correct_non_dogs\n",
    "    results_stats_dic['pct_correct_non_dogs'] = pct_correct_non_dogs\n",
    "    results_stats_dic['n_non_dogs'] = n_non_dogs\n",
    "    results_stats_dic['n_correct_breed'] = n_correct_breed\n",
    "    results_stats_dic['pct_correct_breed'] = pct_correct_breed\n",
    "    results_stats_dic['n_label_matches'] = n_label_matches\n",
    "    results_stats_dic['pct_label_matches'] = pct_label_matches\n",
    "\n",
    "    # Return the results statistics dictionary\n",
    "    return results_stats_dic\n"
   ]
  },
  {
   "cell_type": "code",
   "execution_count": null,
   "id": "1bff3165-e393-4b9d-b5c0-b7f99b01bbf4",
   "metadata": {},
   "outputs": [],
   "source": []
  },
  {
   "cell_type": "code",
   "execution_count": 5,
   "id": "dddcaf2a-56f7-46ca-9bef-cb3d07f2d633",
   "metadata": {},
   "outputs": [],
   "source": [
    "results_dic = {\n",
    "    \"image1.jpg\": [\"beagle\", \"beagle\", 1, 1, 1],\n",
    "    \"image2.jpg\": [\"dalmatian\", \"poodle\", 0, 1, 1],\n",
    "    \"image3.jpg\": [\"poodle\", \"poodle\", 1, 1, 1],\n",
    "    \"image4.jpg\": [\"beagle\", \"beagle\", 1, 0, 1],\n",
    "    \"image5.jpg\": [\"cat\", \"cat\", 1, 0, 0],\n",
    "}"
   ]
  },
  {
   "cell_type": "code",
   "execution_count": 6,
   "id": "321ea217-5b82-49cc-87ae-3fdde4bd5844",
   "metadata": {},
   "outputs": [
    {
     "data": {
      "text/plain": [
       "{'n_images': 5,\n",
       " 'n_correct_dogs': 3,\n",
       " 'pct_correct_dogs': 100.0,\n",
       " 'n_dogs': 3,\n",
       " 'n_correct_non_dogs': 1,\n",
       " 'pct_correct_non_dogs': 50.0,\n",
       " 'n_non_dogs': 2,\n",
       " 'n_correct_breed': 2,\n",
       " 'pct_correct_breed': 66.66666666666666,\n",
       " 'n_label_matches': 4,\n",
       " 'pct_label_matches': 80.0}"
      ]
     },
     "execution_count": 6,
     "metadata": {},
     "output_type": "execute_result"
    }
   ],
   "source": [
    "# Define the calculates_results_stats function here\n",
    "def calculates_results_stats(results_dic):\n",
    "    results_stats_dic = {}\n",
    "    n_images = len(results_dic)\n",
    "    n_correct_dogs = 0\n",
    "    n_dogs = 0\n",
    "    n_correct_non_dogs = 0\n",
    "    n_non_dogs = 0\n",
    "    n_correct_breed = 0\n",
    "    n_label_matches = 0\n",
    "\n",
    "    for key in results_dic:\n",
    "        pet_label = results_dic[key][0]\n",
    "        classifier_label = results_dic[key][1]\n",
    "        is_pet_dog = results_dic[key][3]\n",
    "        is_classified_dog = results_dic[key][4]\n",
    "        is_correct_label = results_dic[key][2]\n",
    "\n",
    "        if is_pet_dog == 1:\n",
    "            n_dogs += 1\n",
    "            if is_correct_label == 1:\n",
    "                n_correct_breed += 1\n",
    "            if is_classified_dog == 1:\n",
    "                n_correct_dogs += 1\n",
    "\n",
    "        if is_pet_dog == 0:\n",
    "            n_non_dogs += 1\n",
    "            if is_classified_dog == 0:\n",
    "                n_correct_non_dogs += 1\n",
    "\n",
    "        if is_correct_label == 1:\n",
    "            n_label_matches += 1\n",
    "\n",
    "    pct_correct_dogs = (n_correct_dogs / n_dogs) * 100 if n_dogs > 0 else 0\n",
    "    pct_correct_non_dogs = (n_correct_non_dogs / n_non_dogs) * 100 if n_non_dogs > 0 else 0\n",
    "    pct_correct_breed = (n_correct_breed / n_dogs) * 100 if n_dogs > 0 else 0\n",
    "    pct_label_matches = (n_label_matches / n_images) * 100 if n_images > 0 else 0\n",
    "\n",
    "    results_stats_dic['n_images'] = n_images\n",
    "    results_stats_dic['n_correct_dogs'] = n_correct_dogs\n",
    "    results_stats_dic['pct_correct_dogs'] = pct_correct_dogs\n",
    "    results_stats_dic['n_dogs'] = n_dogs\n",
    "    results_stats_dic['n_correct_non_dogs'] = n_correct_non_dogs\n",
    "    results_stats_dic['pct_correct_non_dogs'] = pct_correct_non_dogs\n",
    "    results_stats_dic['n_non_dogs'] = n_non_dogs\n",
    "    results_stats_dic['n_correct_breed'] = n_correct_breed\n",
    "    results_stats_dic['pct_correct_breed'] = pct_correct_breed\n",
    "    results_stats_dic['n_label_matches'] = n_label_matches\n",
    "    results_stats_dic['pct_label_matches'] = pct_label_matches\n",
    "\n",
    "    return results_stats_dic\n",
    "\n",
    "# Define the sample results_dic\n",
    "results_dic = {\n",
    "    \"image1.jpg\": [\"beagle\", \"beagle\", 1, 1, 1],\n",
    "    \"image2.jpg\": [\"dalmatian\", \"poodle\", 0, 1, 1],\n",
    "    \"image3.jpg\": [\"poodle\", \"poodle\", 1, 1, 1],\n",
    "    \"image4.jpg\": [\"beagle\", \"beagle\", 1, 0, 1],\n",
    "    \"image5.jpg\": [\"cat\", \"cat\", 1, 0, 0],\n",
    "}\n",
    "\n",
    "# Calculate the results stats\n",
    "results_stats = calculates_results_stats(results_dic)\n",
    "\n",
    "# Print the results\n",
    "results_stats"
   ]
  },
  {
   "cell_type": "code",
   "execution_count": 7,
   "id": "480d5bae-a2af-4b7e-8836-9afdbb8f5a0c",
   "metadata": {},
   "outputs": [],
   "source": [
    "# Function to print results\n",
    "def print_results(results_dic, results_stats_dic, print_incorrect_dogs=False, print_incorrect_breed=False):\n",
    "    \"\"\"\n",
    "    Prints a summary of the results including statistics and misclassifications.\n",
    "\n",
    "    Args:\n",
    "    - results_dic (dict): Dictionary containing the results of image classification.\n",
    "    - results_stats_dic (dict): Dictionary containing calculated statistics.\n",
    "    - print_incorrect_dogs (bool): Whether to print misclassified dogs (default False).\n",
    "    - print_incorrect_breed (bool): Whether to print misclassified breeds (default False).\n",
    "    \"\"\"\n",
    "    # General Summary\n",
    "    print(f\"Results Summary:\")\n",
    "    print(f\"Number of Images: {results_stats_dic['n_images']}\")\n",
    "    print(f\"Number of Dog Images: {results_stats_dic['n_dogs_img']}\")\n",
    "    print(f\"Number of 'Not-a' Dog Images: {results_stats_dic['n_notdogs_img']}\")\n",
    "    \n",
    "    # Printing Statistics\n",
    "    for key, value in results_stats_dic.items():\n",
    "        if key.startswith('pct_'):\n",
    "            print(f\"{key}: {value}%\")\n",
    "    \n",
    "    # Printing Misclassified Dogs\n",
    "    if print_incorrect_dogs:\n",
    "        if results_stats_dic['n_correct_dogs'] + results_stats_dic['n_correct_notdogs'] != results_stats_dic['n_images']:\n",
    "            print(\"\\nMisclassified Dogs:\")\n",
    "            for key in results_dic:\n",
    "                if sum(results_dic[key][3:]) == 1:  # Misclassified dog\n",
    "                    print(f\"Image: {key}, True Label: {results_dic[key][0]}, Classifier Label: {results_dic[key][1]}\")\n",
    "    \n",
    "    # Printing Misclassified Breeds\n",
    "    if print_incorrect_breed:\n",
    "        if results_stats_dic['n_correct_dogs'] != results_stats_dic['n_correct_breed']:\n",
    "            print(\"\\nMisclassified Breeds:\")\n",
    "            for key in results_dic:\n",
    "                if sum(results_dic[key][3:]) == 2 and results_dic[key][2] == 0:  # Misclassified breed\n",
    "                    print(f\"Image: {key}, True Label: {results_dic[key][0]}, Classifier Label: {results_dic[key][1]}\")\n"
   ]
  },
  {
   "cell_type": "code",
   "execution_count": 8,
   "id": "dc8cd0ce-e8b8-4b54-abbd-a42fa6e0988d",
   "metadata": {},
   "outputs": [],
   "source": [
    "# Sample results dictionary (simulating classification results for a few images)\n",
    "results_dic = {\n",
    "    \"image_1.jpg\": [\"dog\", \"dog\", 1, 0, 1],  # Correctly classified dog\n",
    "    \"image_2.jpg\": [\"dog\", \"cat\", 1, 1, 0],  # Misclassified breed\n",
    "    \"image_3.jpg\": [\"cat\", \"dog\", 0, 1, 0],  # Misclassified dog vs not-dog\n",
    "    \"image_4.jpg\": [\"dog\", \"dog\", 1, 0, 1]   # Correctly classified dog\n",
    "}\n",
    "\n",
    "# Sample results statistics dictionary\n",
    "results_stats_dic = {\n",
    "    \"n_images\": 4,\n",
    "    \"n_dogs_img\": 3,\n",
    "    \"n_notdogs_img\": 1,\n",
    "    \"n_correct_dogs\": 2,\n",
    "    \"n_correct_breed\": 1,\n",
    "    \"n_correct_notdogs\": 1,\n",
    "    \"pct_correct_dogs\": 50.0,\n",
    "    \"pct_correct_breed\": 25.0,\n",
    "    \"pct_correct_notdogs\": 100.0,\n",
    "    \"pct_match\": 50.0\n",
    "}\n"
   ]
  },
  {
   "cell_type": "code",
   "execution_count": 9,
   "id": "a5bb66b2-65c6-4dd1-b196-1ee939044c35",
   "metadata": {},
   "outputs": [
    {
     "name": "stdout",
     "output_type": "stream",
     "text": [
      "Results Summary:\n",
      "Number of Images: 4\n",
      "Number of Dog Images: 3\n",
      "Number of 'Not-a' Dog Images: 1\n",
      "pct_correct_dogs: 50.0%\n",
      "pct_correct_breed: 25.0%\n",
      "pct_correct_notdogs: 100.0%\n",
      "pct_match: 50.0%\n",
      "\n",
      "Misclassified Dogs:\n",
      "Image: image_1.jpg, True Label: dog, Classifier Label: dog\n",
      "Image: image_2.jpg, True Label: dog, Classifier Label: cat\n",
      "Image: image_3.jpg, True Label: cat, Classifier Label: dog\n",
      "Image: image_4.jpg, True Label: dog, Classifier Label: dog\n",
      "\n",
      "Misclassified Breeds:\n"
     ]
    }
   ],
   "source": [
    "# Calling print_results() to print results and statistics\n",
    "print_results(results_dic, results_stats_dic, print_incorrect_dogs=True, print_incorrect_breed=True)"
   ]
  },
  {
   "cell_type": "code",
   "execution_count": 10,
   "id": "6600d97e-01d3-437f-adce-3e33dee7e9ba",
   "metadata": {},
   "outputs": [
    {
     "name": "stdout",
     "output_type": "stream",
     "text": [
      "Results Summary:\n",
      "Number of Images: 4\n",
      "Number of Dog Images: 3\n",
      "Number of 'Not-a' Dog Images: 1\n",
      "pct_correct_dogs: 50.0%\n",
      "pct_correct_breed: 25.0%\n",
      "pct_correct_notdogs: 100.0%\n",
      "pct_match: 50.0%\n",
      "\n",
      "Misclassified Dogs:\n",
      "Image: image_1.jpg, True Label: dog, Classifier Label: dog\n",
      "Image: image_2.jpg, True Label: dog, Classifier Label: cat\n",
      "Image: image_3.jpg, True Label: cat, Classifier Label: dog\n",
      "Image: image_4.jpg, True Label: dog, Classifier Label: dog\n",
      "\n",
      "Misclassified Breeds:\n"
     ]
    }
   ],
   "source": [
    "# Function to print results\n",
    "def print_results(results_dic, results_stats_dic, print_incorrect_dogs=False, print_incorrect_breed=False):\n",
    "    \"\"\"\n",
    "    Prints a summary of the results including statistics and misclassifications.\n",
    "\n",
    "    Args:\n",
    "    - results_dic (dict): Dictionary containing the results of image classification.\n",
    "    - results_stats_dic (dict): Dictionary containing calculated statistics.\n",
    "    - print_incorrect_dogs (bool): Whether to print misclassified dogs (default False).\n",
    "    - print_incorrect_breed (bool): Whether to print misclassified breeds (default False).\n",
    "    \"\"\"\n",
    "    # General Summary\n",
    "    print(f\"Results Summary:\")\n",
    "    print(f\"Number of Images: {results_stats_dic['n_images']}\")\n",
    "    print(f\"Number of Dog Images: {results_stats_dic['n_dogs_img']}\")\n",
    "    print(f\"Number of 'Not-a' Dog Images: {results_stats_dic['n_notdogs_img']}\")\n",
    "    \n",
    "    # Printing Statistics\n",
    "    for key, value in results_stats_dic.items():\n",
    "        if key.startswith('pct_'):\n",
    "            print(f\"{key}: {value}%\")\n",
    "    \n",
    "    # Printing Misclassified Dogs\n",
    "    if print_incorrect_dogs:\n",
    "        if results_stats_dic['n_correct_dogs'] + results_stats_dic['n_correct_notdogs'] != results_stats_dic['n_images']:\n",
    "            print(\"\\nMisclassified Dogs:\")\n",
    "            for key in results_dic:\n",
    "                if sum(results_dic[key][3:]) == 1:  # Misclassified dog\n",
    "                    print(f\"Image: {key}, True Label: {results_dic[key][0]}, Classifier Label: {results_dic[key][1]}\")\n",
    "    \n",
    "    # Printing Misclassified Breeds\n",
    "    if print_incorrect_breed:\n",
    "        if results_stats_dic['n_correct_dogs'] != results_stats_dic['n_correct_breed']:\n",
    "            print(\"\\nMisclassified Breeds:\")\n",
    "            for key in results_dic:\n",
    "                if sum(results_dic[key][3:]) == 2 and results_dic[key][2] == 0:  # Misclassified breed\n",
    "                    print(f\"Image: {key}, True Label: {results_dic[key][0]}, Classifier Label: {results_dic[key][1]}\")\n",
    "\n",
    "# Sample results dictionary (simulating classification results for a few images)\n",
    "results_dic = {\n",
    "    \"image_1.jpg\": [\"dog\", \"dog\", 1, 0, 1],  # Correctly classified dog\n",
    "    \"image_2.jpg\": [\"dog\", \"cat\", 1, 1, 0],  # Misclassified breed\n",
    "    \"image_3.jpg\": [\"cat\", \"dog\", 0, 1, 0],  # Misclassified dog vs not-dog\n",
    "    \"image_4.jpg\": [\"dog\", \"dog\", 1, 0, 1]   # Correctly classified dog\n",
    "}\n",
    "\n",
    "# Sample results statistics dictionary\n",
    "results_stats_dic = {\n",
    "    \"n_images\": 4,\n",
    "    \"n_dogs_img\": 3,\n",
    "    \"n_notdogs_img\": 1,\n",
    "    \"n_correct_dogs\": 2,\n",
    "    \"n_correct_breed\": 1,\n",
    "    \"n_correct_notdogs\": 1,\n",
    "    \"pct_correct_dogs\": 50.0,\n",
    "    \"pct_correct_breed\": 25.0,\n",
    "    \"pct_correct_notdogs\": 100.0,\n",
    "    \"pct_match\": 50.0\n",
    "}\n",
    "\n",
    "# Calling print_results() to print results and statistics\n",
    "print_results(results_dic, results_stats_dic, print_incorrect_dogs=True, print_incorrect_breed=True)\n"
   ]
  },
  {
   "cell_type": "code",
   "execution_count": 18,
   "id": "75df001b-b39c-48f9-96e9-651b1f3f170d",
   "metadata": {},
   "outputs": [
    {
     "data": {
      "text/plain": [
       "'C:\\\\Users\\\\PC'"
      ]
     },
     "execution_count": 18,
     "metadata": {},
     "output_type": "execute_result"
    }
   ],
   "source": [
    "import os\n",
    "os.getcwd()"
   ]
  },
  {
   "cell_type": "code",
   "execution_count": null,
   "id": "6dbaba38-b461-4f7a-adef-4cb5210153d1",
   "metadata": {},
   "outputs": [],
   "source": []
  }
 ],
 "metadata": {
  "kernelspec": {
   "display_name": "Python 3 (ipykernel)",
   "language": "python",
   "name": "python3"
  },
  "language_info": {
   "codemirror_mode": {
    "name": "ipython",
    "version": 3
   },
   "file_extension": ".py",
   "mimetype": "text/x-python",
   "name": "python",
   "nbconvert_exporter": "python",
   "pygments_lexer": "ipython3",
   "version": "3.12.4"
  }
 },
 "nbformat": 4,
 "nbformat_minor": 5
}
